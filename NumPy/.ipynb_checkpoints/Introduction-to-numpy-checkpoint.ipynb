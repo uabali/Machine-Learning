{
 "cells": [
  {
   "cell_type": "code",
   "execution_count": null,
   "id": "initial_id",
   "metadata": {
    "ExecuteTime": {
     "end_time": "2024-03-14T09:43:32.795981Z",
     "start_time": "2024-03-14T09:43:32.220494Z"
    }
   },
   "outputs": [],
   "source": [
    "import numpy as np"
   ]
  },
  {
   "cell_type": "markdown",
   "id": "a23fe2c38f77c6ef",
   "metadata": {
    "collapsed": false,
    "jupyter": {
     "outputs_hidden": false
    }
   },
   "source": [
    "1. DataTypes and attributes\n",
    " -Note: Important to remember the main type in NumPy is ndarray"
   ]
  },
  {
   "cell_type": "code",
   "execution_count": null,
   "id": "65a63ccc8da3ebe9",
   "metadata": {
    "ExecuteTime": {
     "end_time": "2024-03-14T09:43:32.803100Z",
     "start_time": "2024-03-14T09:43:32.800207Z"
    },
    "collapsed": false,
    "jupyter": {
     "outputs_hidden": false
    }
   },
   "outputs": [],
   "source": [
    "# 1-dimensonal array, also referred to as a vector\n",
    "a1 = np.array([1, 2, 3])\n",
    "\n",
    "# 2-dimensional array, also referred to as matrix\n",
    "a2 = np.array([[1, 2.0, 3.3],\n",
    "               [4, 5, 6.5]])\n",
    "\n",
    "# 3-dimensional array, also referred to as a matrix\n",
    "a3 = np.array([[[1, 2, 3],\n",
    "                [4, 5, 6],\n",
    "                [7, 8, 9]],\n",
    "                [[10, 11, 12],\n",
    "                 [13, 14, 15],\n",
    "                 [16, 17, 18]]])"
   ]
  },
  {
   "cell_type": "code",
   "execution_count": null,
   "id": "ce4855540ddce8bc",
   "metadata": {
    "ExecuteTime": {
     "end_time": "2024-03-14T09:43:32.809323Z",
     "start_time": "2024-03-14T09:43:32.804939Z"
    },
    "collapsed": false,
    "jupyter": {
     "outputs_hidden": false
    }
   },
   "outputs": [],
   "source": [
    "a1.shape, a1.ndim, a1.dtype, a1.size, type(a1)"
   ]
  },
  {
   "cell_type": "code",
   "execution_count": null,
   "id": "7dba13f5f6258a80",
   "metadata": {
    "ExecuteTime": {
     "end_time": "2024-03-14T09:43:32.816374Z",
     "start_time": "2024-03-14T09:43:32.812017Z"
    },
    "collapsed": false,
    "jupyter": {
     "outputs_hidden": false
    }
   },
   "outputs": [],
   "source": [
    "a2.shape, a2.ndim, a2.dtype, a2.size, type(a2)"
   ]
  },
  {
   "cell_type": "code",
   "execution_count": null,
   "id": "5f7f5857c6dfbf7d",
   "metadata": {
    "ExecuteTime": {
     "end_time": "2024-03-14T09:43:32.820972Z",
     "start_time": "2024-03-14T09:43:32.817597Z"
    },
    "collapsed": false,
    "jupyter": {
     "outputs_hidden": false
    }
   },
   "outputs": [],
   "source": [
    "a3.shape, a3.ndim, a3.dtype, a3.size, type(a3)"
   ]
  },
  {
   "cell_type": "markdown",
   "id": "c33f6b6cc59b876b",
   "metadata": {
    "collapsed": false,
    "jupyter": {
     "outputs_hidden": false
    }
   },
   "source": [
    "2. Creating arrays\n",
    "np.array()\n",
    "np.ones()\n",
    "np.zeros()\n",
    "np.random.rand(5, 3)\n",
    "np.random.randint(10, size=5)\n",
    "np.random.seed() - pseudo random numbers\n",
    "Searching the documentation example (finding np.unique() and using it)"
   ]
  },
  {
   "cell_type": "code",
   "execution_count": null,
   "id": "23a23614fbd01b4e",
   "metadata": {
    "ExecuteTime": {
     "end_time": "2024-03-14T09:43:32.825389Z",
     "start_time": "2024-03-14T09:43:32.822330Z"
    },
    "collapsed": false,
    "jupyter": {
     "outputs_hidden": false
    }
   },
   "outputs": [],
   "source": [
    "# Create a simple array\n",
    "simple_array = np.array([1, 2, 3])\n",
    "simple_array"
   ]
  },
  {
   "cell_type": "code",
   "execution_count": null,
   "id": "a04d94773e47c461",
   "metadata": {
    "ExecuteTime": {
     "end_time": "2024-03-14T09:43:32.829343Z",
     "start_time": "2024-03-14T09:43:32.826671Z"
    },
    "collapsed": false,
    "jupyter": {
     "outputs_hidden": false
    }
   },
   "outputs": [],
   "source": [
    "simple_array = np.array((1, 2, 3))\n",
    "simple_array, simple_array.dtype"
   ]
  },
  {
   "cell_type": "code",
   "execution_count": null,
   "id": "165f30ac5c18eb6b",
   "metadata": {
    "ExecuteTime": {
     "end_time": "2024-03-14T09:43:32.833072Z",
     "start_time": "2024-03-14T09:43:32.830647Z"
    },
    "collapsed": false,
    "jupyter": {
     "outputs_hidden": false
    }
   },
   "outputs": [],
   "source": [
    "# Create an array of ones\n",
    "ones = np.ones((10, 2))\n",
    "ones"
   ]
  },
  {
   "cell_type": "code",
   "execution_count": null,
   "id": "bb1693fae88929a2",
   "metadata": {
    "ExecuteTime": {
     "end_time": "2024-03-14T09:43:32.835861Z",
     "start_time": "2024-03-14T09:43:32.834520Z"
    },
    "collapsed": false,
    "jupyter": {
     "outputs_hidden": false
    }
   },
   "outputs": [],
   "source": []
  }
 ],
 "metadata": {
  "kernelspec": {
   "display_name": "Python 3 (ipykernel)",
   "language": "python",
   "name": "python3"
  },
  "language_info": {
   "codemirror_mode": {
    "name": "ipython",
    "version": 3
   },
   "file_extension": ".py",
   "mimetype": "text/x-python",
   "name": "python",
   "nbconvert_exporter": "python",
   "pygments_lexer": "ipython3",
   "version": "3.12.1"
  }
 },
 "nbformat": 4,
 "nbformat_minor": 5
}
