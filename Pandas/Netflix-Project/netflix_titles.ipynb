{
 "cells": [
  {
   "cell_type": "code",
   "execution_count": 1,
   "id": "initial_id",
   "metadata": {
    "collapsed": true,
    "ExecuteTime": {
     "end_time": "2024-03-13T19:16:20.302352Z",
     "start_time": "2024-03-13T19:16:19.837566Z"
    }
   },
   "outputs": [],
   "source": [
    "import pandas as pd"
   ]
  },
  {
   "cell_type": "code",
   "outputs": [
    {
     "data": {
      "text/plain": "     show_id     type                  title         director  \\\n0         s1    Movie   Dick Johnson Is Dead  Kirsten Johnson   \n1         s2  TV Show          Blood & Water              NaN   \n2         s3  TV Show              Ganglands  Julien Leclercq   \n3         s4  TV Show  Jailbirds New Orleans              NaN   \n4         s5  TV Show           Kota Factory              NaN   \n...      ...      ...                    ...              ...   \n8802   s8803    Movie                 Zodiac    David Fincher   \n8803   s8804  TV Show            Zombie Dumb              NaN   \n8804   s8805    Movie             Zombieland  Ruben Fleischer   \n8805   s8806    Movie                   Zoom     Peter Hewitt   \n8806   s8807    Movie                 Zubaan      Mozez Singh   \n\n                                                   cast        country  \\\n0                                                   NaN  United States   \n1     Ama Qamata, Khosi Ngema, Gail Mabalane, Thaban...   South Africa   \n2     Sami Bouajila, Tracy Gotoas, Samuel Jouy, Nabi...            NaN   \n3                                                   NaN            NaN   \n4     Mayur More, Jitendra Kumar, Ranjan Raj, Alam K...          India   \n...                                                 ...            ...   \n8802  Mark Ruffalo, Jake Gyllenhaal, Robert Downey J...  United States   \n8803                                                NaN            NaN   \n8804  Jesse Eisenberg, Woody Harrelson, Emma Stone, ...  United States   \n8805  Tim Allen, Courteney Cox, Chevy Chase, Kate Ma...  United States   \n8806  Vicky Kaushal, Sarah-Jane Dias, Raaghav Chanan...          India   \n\n              date_added  release_year rating   duration  \\\n0     September 25, 2021          2020  PG-13     90 min   \n1     September 24, 2021          2021  TV-MA  2 Seasons   \n2     September 24, 2021          2021  TV-MA   1 Season   \n3     September 24, 2021          2021  TV-MA   1 Season   \n4     September 24, 2021          2021  TV-MA  2 Seasons   \n...                  ...           ...    ...        ...   \n8802   November 20, 2019          2007      R    158 min   \n8803        July 1, 2019          2018  TV-Y7  2 Seasons   \n8804    November 1, 2019          2009      R     88 min   \n8805    January 11, 2020          2006     PG     88 min   \n8806       March 2, 2019          2015  TV-14    111 min   \n\n                                              listed_in  \\\n0                                         Documentaries   \n1       International TV Shows, TV Dramas, TV Mysteries   \n2     Crime TV Shows, International TV Shows, TV Act...   \n3                                Docuseries, Reality TV   \n4     International TV Shows, Romantic TV Shows, TV ...   \n...                                                 ...   \n8802                     Cult Movies, Dramas, Thrillers   \n8803             Kids' TV, Korean TV Shows, TV Comedies   \n8804                            Comedies, Horror Movies   \n8805                 Children & Family Movies, Comedies   \n8806     Dramas, International Movies, Music & Musicals   \n\n                                            description  \n0     As her father nears the end of his life, filmm...  \n1     After crossing paths at a party, a Cape Town t...  \n2     To protect his family from a powerful drug lor...  \n3     Feuds, flirtations and toilet talk go down amo...  \n4     In a city of coaching centers known to train I...  \n...                                                 ...  \n8802  A political cartoonist, a crime reporter and a...  \n8803  While living alone in a spooky town, a young g...  \n8804  Looking to survive in a world taken over by zo...  \n8805  Dragged from civilian life, a former superhero...  \n8806  A scrappy but poor boy worms his way into a ty...  \n\n[8807 rows x 12 columns]",
      "text/html": "<div>\n<style scoped>\n    .dataframe tbody tr th:only-of-type {\n        vertical-align: middle;\n    }\n\n    .dataframe tbody tr th {\n        vertical-align: top;\n    }\n\n    .dataframe thead th {\n        text-align: right;\n    }\n</style>\n<table border=\"1\" class=\"dataframe\">\n  <thead>\n    <tr style=\"text-align: right;\">\n      <th></th>\n      <th>show_id</th>\n      <th>type</th>\n      <th>title</th>\n      <th>director</th>\n      <th>cast</th>\n      <th>country</th>\n      <th>date_added</th>\n      <th>release_year</th>\n      <th>rating</th>\n      <th>duration</th>\n      <th>listed_in</th>\n      <th>description</th>\n    </tr>\n  </thead>\n  <tbody>\n    <tr>\n      <th>0</th>\n      <td>s1</td>\n      <td>Movie</td>\n      <td>Dick Johnson Is Dead</td>\n      <td>Kirsten Johnson</td>\n      <td>NaN</td>\n      <td>United States</td>\n      <td>September 25, 2021</td>\n      <td>2020</td>\n      <td>PG-13</td>\n      <td>90 min</td>\n      <td>Documentaries</td>\n      <td>As her father nears the end of his life, filmm...</td>\n    </tr>\n    <tr>\n      <th>1</th>\n      <td>s2</td>\n      <td>TV Show</td>\n      <td>Blood &amp; Water</td>\n      <td>NaN</td>\n      <td>Ama Qamata, Khosi Ngema, Gail Mabalane, Thaban...</td>\n      <td>South Africa</td>\n      <td>September 24, 2021</td>\n      <td>2021</td>\n      <td>TV-MA</td>\n      <td>2 Seasons</td>\n      <td>International TV Shows, TV Dramas, TV Mysteries</td>\n      <td>After crossing paths at a party, a Cape Town t...</td>\n    </tr>\n    <tr>\n      <th>2</th>\n      <td>s3</td>\n      <td>TV Show</td>\n      <td>Ganglands</td>\n      <td>Julien Leclercq</td>\n      <td>Sami Bouajila, Tracy Gotoas, Samuel Jouy, Nabi...</td>\n      <td>NaN</td>\n      <td>September 24, 2021</td>\n      <td>2021</td>\n      <td>TV-MA</td>\n      <td>1 Season</td>\n      <td>Crime TV Shows, International TV Shows, TV Act...</td>\n      <td>To protect his family from a powerful drug lor...</td>\n    </tr>\n    <tr>\n      <th>3</th>\n      <td>s4</td>\n      <td>TV Show</td>\n      <td>Jailbirds New Orleans</td>\n      <td>NaN</td>\n      <td>NaN</td>\n      <td>NaN</td>\n      <td>September 24, 2021</td>\n      <td>2021</td>\n      <td>TV-MA</td>\n      <td>1 Season</td>\n      <td>Docuseries, Reality TV</td>\n      <td>Feuds, flirtations and toilet talk go down amo...</td>\n    </tr>\n    <tr>\n      <th>4</th>\n      <td>s5</td>\n      <td>TV Show</td>\n      <td>Kota Factory</td>\n      <td>NaN</td>\n      <td>Mayur More, Jitendra Kumar, Ranjan Raj, Alam K...</td>\n      <td>India</td>\n      <td>September 24, 2021</td>\n      <td>2021</td>\n      <td>TV-MA</td>\n      <td>2 Seasons</td>\n      <td>International TV Shows, Romantic TV Shows, TV ...</td>\n      <td>In a city of coaching centers known to train I...</td>\n    </tr>\n    <tr>\n      <th>...</th>\n      <td>...</td>\n      <td>...</td>\n      <td>...</td>\n      <td>...</td>\n      <td>...</td>\n      <td>...</td>\n      <td>...</td>\n      <td>...</td>\n      <td>...</td>\n      <td>...</td>\n      <td>...</td>\n      <td>...</td>\n    </tr>\n    <tr>\n      <th>8802</th>\n      <td>s8803</td>\n      <td>Movie</td>\n      <td>Zodiac</td>\n      <td>David Fincher</td>\n      <td>Mark Ruffalo, Jake Gyllenhaal, Robert Downey J...</td>\n      <td>United States</td>\n      <td>November 20, 2019</td>\n      <td>2007</td>\n      <td>R</td>\n      <td>158 min</td>\n      <td>Cult Movies, Dramas, Thrillers</td>\n      <td>A political cartoonist, a crime reporter and a...</td>\n    </tr>\n    <tr>\n      <th>8803</th>\n      <td>s8804</td>\n      <td>TV Show</td>\n      <td>Zombie Dumb</td>\n      <td>NaN</td>\n      <td>NaN</td>\n      <td>NaN</td>\n      <td>July 1, 2019</td>\n      <td>2018</td>\n      <td>TV-Y7</td>\n      <td>2 Seasons</td>\n      <td>Kids' TV, Korean TV Shows, TV Comedies</td>\n      <td>While living alone in a spooky town, a young g...</td>\n    </tr>\n    <tr>\n      <th>8804</th>\n      <td>s8805</td>\n      <td>Movie</td>\n      <td>Zombieland</td>\n      <td>Ruben Fleischer</td>\n      <td>Jesse Eisenberg, Woody Harrelson, Emma Stone, ...</td>\n      <td>United States</td>\n      <td>November 1, 2019</td>\n      <td>2009</td>\n      <td>R</td>\n      <td>88 min</td>\n      <td>Comedies, Horror Movies</td>\n      <td>Looking to survive in a world taken over by zo...</td>\n    </tr>\n    <tr>\n      <th>8805</th>\n      <td>s8806</td>\n      <td>Movie</td>\n      <td>Zoom</td>\n      <td>Peter Hewitt</td>\n      <td>Tim Allen, Courteney Cox, Chevy Chase, Kate Ma...</td>\n      <td>United States</td>\n      <td>January 11, 2020</td>\n      <td>2006</td>\n      <td>PG</td>\n      <td>88 min</td>\n      <td>Children &amp; Family Movies, Comedies</td>\n      <td>Dragged from civilian life, a former superhero...</td>\n    </tr>\n    <tr>\n      <th>8806</th>\n      <td>s8807</td>\n      <td>Movie</td>\n      <td>Zubaan</td>\n      <td>Mozez Singh</td>\n      <td>Vicky Kaushal, Sarah-Jane Dias, Raaghav Chanan...</td>\n      <td>India</td>\n      <td>March 2, 2019</td>\n      <td>2015</td>\n      <td>TV-14</td>\n      <td>111 min</td>\n      <td>Dramas, International Movies, Music &amp; Musicals</td>\n      <td>A scrappy but poor boy worms his way into a ty...</td>\n    </tr>\n  </tbody>\n</table>\n<p>8807 rows × 12 columns</p>\n</div>"
     },
     "execution_count": 3,
     "metadata": {},
     "output_type": "execute_result"
    }
   ],
   "source": [
    "netflix = pd.read_csv(\"netflix_titles.csv\")\n",
    "netflix"
   ],
   "metadata": {
    "collapsed": false,
    "ExecuteTime": {
     "end_time": "2024-03-13T19:17:03.235033Z",
     "start_time": "2024-03-13T19:17:03.166092Z"
    }
   },
   "id": "5b6990569c3ee05",
   "execution_count": 3
  },
  {
   "cell_type": "code",
   "outputs": [
    {
     "data": {
      "text/plain": "<bound method DataFrame.info of      show_id     type                  title         director  \\\n0         s1    Movie   Dick Johnson Is Dead  Kirsten Johnson   \n1         s2  TV Show          Blood & Water              NaN   \n2         s3  TV Show              Ganglands  Julien Leclercq   \n3         s4  TV Show  Jailbirds New Orleans              NaN   \n4         s5  TV Show           Kota Factory              NaN   \n...      ...      ...                    ...              ...   \n8802   s8803    Movie                 Zodiac    David Fincher   \n8803   s8804  TV Show            Zombie Dumb              NaN   \n8804   s8805    Movie             Zombieland  Ruben Fleischer   \n8805   s8806    Movie                   Zoom     Peter Hewitt   \n8806   s8807    Movie                 Zubaan      Mozez Singh   \n\n                                                   cast        country  \\\n0                                                   NaN  United States   \n1     Ama Qamata, Khosi Ngema, Gail Mabalane, Thaban...   South Africa   \n2     Sami Bouajila, Tracy Gotoas, Samuel Jouy, Nabi...            NaN   \n3                                                   NaN            NaN   \n4     Mayur More, Jitendra Kumar, Ranjan Raj, Alam K...          India   \n...                                                 ...            ...   \n8802  Mark Ruffalo, Jake Gyllenhaal, Robert Downey J...  United States   \n8803                                                NaN            NaN   \n8804  Jesse Eisenberg, Woody Harrelson, Emma Stone, ...  United States   \n8805  Tim Allen, Courteney Cox, Chevy Chase, Kate Ma...  United States   \n8806  Vicky Kaushal, Sarah-Jane Dias, Raaghav Chanan...          India   \n\n              date_added  release_year rating   duration  \\\n0     September 25, 2021          2020  PG-13     90 min   \n1     September 24, 2021          2021  TV-MA  2 Seasons   \n2     September 24, 2021          2021  TV-MA   1 Season   \n3     September 24, 2021          2021  TV-MA   1 Season   \n4     September 24, 2021          2021  TV-MA  2 Seasons   \n...                  ...           ...    ...        ...   \n8802   November 20, 2019          2007      R    158 min   \n8803        July 1, 2019          2018  TV-Y7  2 Seasons   \n8804    November 1, 2019          2009      R     88 min   \n8805    January 11, 2020          2006     PG     88 min   \n8806       March 2, 2019          2015  TV-14    111 min   \n\n                                              listed_in  \\\n0                                         Documentaries   \n1       International TV Shows, TV Dramas, TV Mysteries   \n2     Crime TV Shows, International TV Shows, TV Act...   \n3                                Docuseries, Reality TV   \n4     International TV Shows, Romantic TV Shows, TV ...   \n...                                                 ...   \n8802                     Cult Movies, Dramas, Thrillers   \n8803             Kids' TV, Korean TV Shows, TV Comedies   \n8804                            Comedies, Horror Movies   \n8805                 Children & Family Movies, Comedies   \n8806     Dramas, International Movies, Music & Musicals   \n\n                                            description  \n0     As her father nears the end of his life, filmm...  \n1     After crossing paths at a party, a Cape Town t...  \n2     To protect his family from a powerful drug lor...  \n3     Feuds, flirtations and toilet talk go down amo...  \n4     In a city of coaching centers known to train I...  \n...                                                 ...  \n8802  A political cartoonist, a crime reporter and a...  \n8803  While living alone in a spooky town, a young g...  \n8804  Looking to survive in a world taken over by zo...  \n8805  Dragged from civilian life, a former superhero...  \n8806  A scrappy but poor boy worms his way into a ty...  \n\n[8807 rows x 12 columns]>"
     },
     "execution_count": 4,
     "metadata": {},
     "output_type": "execute_result"
    }
   ],
   "source": [
    "netflix.info"
   ],
   "metadata": {
    "collapsed": false,
    "ExecuteTime": {
     "end_time": "2024-03-13T19:21:56.969344Z",
     "start_time": "2024-03-13T19:21:56.954774Z"
    }
   },
   "id": "ffdf5a3e31b8f5d0",
   "execution_count": 4
  },
  {
   "cell_type": "code",
   "outputs": [],
   "source": [
    "netflix.dropna(inplace= True)"
   ],
   "metadata": {
    "collapsed": false,
    "ExecuteTime": {
     "end_time": "2024-03-13T19:22:42.499790Z",
     "start_time": "2024-03-13T19:22:42.483470Z"
    }
   },
   "id": "1646722f4493d238",
   "execution_count": 5
  },
  {
   "cell_type": "code",
   "outputs": [
    {
     "data": {
      "text/plain": "     show_id     type                          title             director  \\\n7         s8    Movie                        Sankofa         Haile Gerima   \n8         s9  TV Show  The Great British Baking Show      Andy Devonshire   \n9        s10    Movie                   The Starling       Theodore Melfi   \n12       s13    Movie                   Je Suis Karl  Christian Schwochow   \n24       s25    Movie                          Jeans           S. Shankar   \n...      ...      ...                            ...                  ...   \n8801   s8802    Movie                        Zinzana      Majid Al Ansari   \n8802   s8803    Movie                         Zodiac        David Fincher   \n8804   s8805    Movie                     Zombieland      Ruben Fleischer   \n8805   s8806    Movie                           Zoom         Peter Hewitt   \n8806   s8807    Movie                         Zubaan          Mozez Singh   \n\n                                                   cast  \\\n7     Kofi Ghanaba, Oyafunmike Ogunlano, Alexandra D...   \n8     Mel Giedroyc, Sue Perkins, Mary Berry, Paul Ho...   \n9     Melissa McCarthy, Chris O'Dowd, Kevin Kline, T...   \n12    Luna Wedler, Jannis Niewöhner, Milan Peschel, ...   \n24    Prashanth, Aishwarya Rai Bachchan, Sri Lakshmi...   \n...                                                 ...   \n8801  Ali Suliman, Saleh Bakri, Yasa, Ali Al-Jabri, ...   \n8802  Mark Ruffalo, Jake Gyllenhaal, Robert Downey J...   \n8804  Jesse Eisenberg, Woody Harrelson, Emma Stone, ...   \n8805  Tim Allen, Courteney Cox, Chevy Chase, Kate Ma...   \n8806  Vicky Kaushal, Sarah-Jane Dias, Raaghav Chanan...   \n\n                                                country          date_added  \\\n7     United States, Ghana, Burkina Faso, United Kin...  September 24, 2021   \n8                                        United Kingdom  September 24, 2021   \n9                                         United States  September 24, 2021   \n12                              Germany, Czech Republic  September 23, 2021   \n24                                                India  September 21, 2021   \n...                                                 ...                 ...   \n8801                       United Arab Emirates, Jordan       March 9, 2016   \n8802                                      United States   November 20, 2019   \n8804                                      United States    November 1, 2019   \n8805                                      United States    January 11, 2020   \n8806                                              India       March 2, 2019   \n\n      release_year rating   duration  \\\n7             1993  TV-MA    125 min   \n8             2021  TV-14  9 Seasons   \n9             2021  PG-13    104 min   \n12            2021  TV-MA    127 min   \n24            1998  TV-14    166 min   \n...            ...    ...        ...   \n8801          2015  TV-MA     96 min   \n8802          2007      R    158 min   \n8804          2009      R     88 min   \n8805          2006     PG     88 min   \n8806          2015  TV-14    111 min   \n\n                                             listed_in  \\\n7     Dramas, Independent Movies, International Movies   \n8                         British TV Shows, Reality TV   \n9                                     Comedies, Dramas   \n12                        Dramas, International Movies   \n24     Comedies, International Movies, Romantic Movies   \n...                                                ...   \n8801           Dramas, International Movies, Thrillers   \n8802                    Cult Movies, Dramas, Thrillers   \n8804                           Comedies, Horror Movies   \n8805                Children & Family Movies, Comedies   \n8806    Dramas, International Movies, Music & Musicals   \n\n                                            description  \n7     On a photo shoot in Ghana, an American model s...  \n8     A talented batch of amateur bakers face off in...  \n9     A woman adjusting to life after a loss contend...  \n12    After most of her family is murdered in a terr...  \n24    When the father of the man she loves insists t...  \n...                                                 ...  \n8801  Recovering alcoholic Talal wakes up inside a s...  \n8802  A political cartoonist, a crime reporter and a...  \n8804  Looking to survive in a world taken over by zo...  \n8805  Dragged from civilian life, a former superhero...  \n8806  A scrappy but poor boy worms his way into a ty...  \n\n[5332 rows x 12 columns]",
      "text/html": "<div>\n<style scoped>\n    .dataframe tbody tr th:only-of-type {\n        vertical-align: middle;\n    }\n\n    .dataframe tbody tr th {\n        vertical-align: top;\n    }\n\n    .dataframe thead th {\n        text-align: right;\n    }\n</style>\n<table border=\"1\" class=\"dataframe\">\n  <thead>\n    <tr style=\"text-align: right;\">\n      <th></th>\n      <th>show_id</th>\n      <th>type</th>\n      <th>title</th>\n      <th>director</th>\n      <th>cast</th>\n      <th>country</th>\n      <th>date_added</th>\n      <th>release_year</th>\n      <th>rating</th>\n      <th>duration</th>\n      <th>listed_in</th>\n      <th>description</th>\n    </tr>\n  </thead>\n  <tbody>\n    <tr>\n      <th>7</th>\n      <td>s8</td>\n      <td>Movie</td>\n      <td>Sankofa</td>\n      <td>Haile Gerima</td>\n      <td>Kofi Ghanaba, Oyafunmike Ogunlano, Alexandra D...</td>\n      <td>United States, Ghana, Burkina Faso, United Kin...</td>\n      <td>September 24, 2021</td>\n      <td>1993</td>\n      <td>TV-MA</td>\n      <td>125 min</td>\n      <td>Dramas, Independent Movies, International Movies</td>\n      <td>On a photo shoot in Ghana, an American model s...</td>\n    </tr>\n    <tr>\n      <th>8</th>\n      <td>s9</td>\n      <td>TV Show</td>\n      <td>The Great British Baking Show</td>\n      <td>Andy Devonshire</td>\n      <td>Mel Giedroyc, Sue Perkins, Mary Berry, Paul Ho...</td>\n      <td>United Kingdom</td>\n      <td>September 24, 2021</td>\n      <td>2021</td>\n      <td>TV-14</td>\n      <td>9 Seasons</td>\n      <td>British TV Shows, Reality TV</td>\n      <td>A talented batch of amateur bakers face off in...</td>\n    </tr>\n    <tr>\n      <th>9</th>\n      <td>s10</td>\n      <td>Movie</td>\n      <td>The Starling</td>\n      <td>Theodore Melfi</td>\n      <td>Melissa McCarthy, Chris O'Dowd, Kevin Kline, T...</td>\n      <td>United States</td>\n      <td>September 24, 2021</td>\n      <td>2021</td>\n      <td>PG-13</td>\n      <td>104 min</td>\n      <td>Comedies, Dramas</td>\n      <td>A woman adjusting to life after a loss contend...</td>\n    </tr>\n    <tr>\n      <th>12</th>\n      <td>s13</td>\n      <td>Movie</td>\n      <td>Je Suis Karl</td>\n      <td>Christian Schwochow</td>\n      <td>Luna Wedler, Jannis Niewöhner, Milan Peschel, ...</td>\n      <td>Germany, Czech Republic</td>\n      <td>September 23, 2021</td>\n      <td>2021</td>\n      <td>TV-MA</td>\n      <td>127 min</td>\n      <td>Dramas, International Movies</td>\n      <td>After most of her family is murdered in a terr...</td>\n    </tr>\n    <tr>\n      <th>24</th>\n      <td>s25</td>\n      <td>Movie</td>\n      <td>Jeans</td>\n      <td>S. Shankar</td>\n      <td>Prashanth, Aishwarya Rai Bachchan, Sri Lakshmi...</td>\n      <td>India</td>\n      <td>September 21, 2021</td>\n      <td>1998</td>\n      <td>TV-14</td>\n      <td>166 min</td>\n      <td>Comedies, International Movies, Romantic Movies</td>\n      <td>When the father of the man she loves insists t...</td>\n    </tr>\n    <tr>\n      <th>...</th>\n      <td>...</td>\n      <td>...</td>\n      <td>...</td>\n      <td>...</td>\n      <td>...</td>\n      <td>...</td>\n      <td>...</td>\n      <td>...</td>\n      <td>...</td>\n      <td>...</td>\n      <td>...</td>\n      <td>...</td>\n    </tr>\n    <tr>\n      <th>8801</th>\n      <td>s8802</td>\n      <td>Movie</td>\n      <td>Zinzana</td>\n      <td>Majid Al Ansari</td>\n      <td>Ali Suliman, Saleh Bakri, Yasa, Ali Al-Jabri, ...</td>\n      <td>United Arab Emirates, Jordan</td>\n      <td>March 9, 2016</td>\n      <td>2015</td>\n      <td>TV-MA</td>\n      <td>96 min</td>\n      <td>Dramas, International Movies, Thrillers</td>\n      <td>Recovering alcoholic Talal wakes up inside a s...</td>\n    </tr>\n    <tr>\n      <th>8802</th>\n      <td>s8803</td>\n      <td>Movie</td>\n      <td>Zodiac</td>\n      <td>David Fincher</td>\n      <td>Mark Ruffalo, Jake Gyllenhaal, Robert Downey J...</td>\n      <td>United States</td>\n      <td>November 20, 2019</td>\n      <td>2007</td>\n      <td>R</td>\n      <td>158 min</td>\n      <td>Cult Movies, Dramas, Thrillers</td>\n      <td>A political cartoonist, a crime reporter and a...</td>\n    </tr>\n    <tr>\n      <th>8804</th>\n      <td>s8805</td>\n      <td>Movie</td>\n      <td>Zombieland</td>\n      <td>Ruben Fleischer</td>\n      <td>Jesse Eisenberg, Woody Harrelson, Emma Stone, ...</td>\n      <td>United States</td>\n      <td>November 1, 2019</td>\n      <td>2009</td>\n      <td>R</td>\n      <td>88 min</td>\n      <td>Comedies, Horror Movies</td>\n      <td>Looking to survive in a world taken over by zo...</td>\n    </tr>\n    <tr>\n      <th>8805</th>\n      <td>s8806</td>\n      <td>Movie</td>\n      <td>Zoom</td>\n      <td>Peter Hewitt</td>\n      <td>Tim Allen, Courteney Cox, Chevy Chase, Kate Ma...</td>\n      <td>United States</td>\n      <td>January 11, 2020</td>\n      <td>2006</td>\n      <td>PG</td>\n      <td>88 min</td>\n      <td>Children &amp; Family Movies, Comedies</td>\n      <td>Dragged from civilian life, a former superhero...</td>\n    </tr>\n    <tr>\n      <th>8806</th>\n      <td>s8807</td>\n      <td>Movie</td>\n      <td>Zubaan</td>\n      <td>Mozez Singh</td>\n      <td>Vicky Kaushal, Sarah-Jane Dias, Raaghav Chanan...</td>\n      <td>India</td>\n      <td>March 2, 2019</td>\n      <td>2015</td>\n      <td>TV-14</td>\n      <td>111 min</td>\n      <td>Dramas, International Movies, Music &amp; Musicals</td>\n      <td>A scrappy but poor boy worms his way into a ty...</td>\n    </tr>\n  </tbody>\n</table>\n<p>5332 rows × 12 columns</p>\n</div>"
     },
     "execution_count": 6,
     "metadata": {},
     "output_type": "execute_result"
    }
   ],
   "source": [
    "netflix"
   ],
   "metadata": {
    "collapsed": false,
    "ExecuteTime": {
     "end_time": "2024-03-13T19:22:46.054304Z",
     "start_time": "2024-03-13T19:22:46.044313Z"
    }
   },
   "id": "7ab843d147fa742f",
   "execution_count": 6
  },
  {
   "cell_type": "code",
   "outputs": [
    {
     "data": {
      "text/plain": "<bound method DataFrame.info of      show_id     type                          title             director  \\\n7         s8    Movie                        Sankofa         Haile Gerima   \n8         s9  TV Show  The Great British Baking Show      Andy Devonshire   \n9        s10    Movie                   The Starling       Theodore Melfi   \n12       s13    Movie                   Je Suis Karl  Christian Schwochow   \n24       s25    Movie                          Jeans           S. Shankar   \n...      ...      ...                            ...                  ...   \n8801   s8802    Movie                        Zinzana      Majid Al Ansari   \n8802   s8803    Movie                         Zodiac        David Fincher   \n8804   s8805    Movie                     Zombieland      Ruben Fleischer   \n8805   s8806    Movie                           Zoom         Peter Hewitt   \n8806   s8807    Movie                         Zubaan          Mozez Singh   \n\n                                                   cast  \\\n7     Kofi Ghanaba, Oyafunmike Ogunlano, Alexandra D...   \n8     Mel Giedroyc, Sue Perkins, Mary Berry, Paul Ho...   \n9     Melissa McCarthy, Chris O'Dowd, Kevin Kline, T...   \n12    Luna Wedler, Jannis Niewöhner, Milan Peschel, ...   \n24    Prashanth, Aishwarya Rai Bachchan, Sri Lakshmi...   \n...                                                 ...   \n8801  Ali Suliman, Saleh Bakri, Yasa, Ali Al-Jabri, ...   \n8802  Mark Ruffalo, Jake Gyllenhaal, Robert Downey J...   \n8804  Jesse Eisenberg, Woody Harrelson, Emma Stone, ...   \n8805  Tim Allen, Courteney Cox, Chevy Chase, Kate Ma...   \n8806  Vicky Kaushal, Sarah-Jane Dias, Raaghav Chanan...   \n\n                                                country          date_added  \\\n7     United States, Ghana, Burkina Faso, United Kin...  September 24, 2021   \n8                                        United Kingdom  September 24, 2021   \n9                                         United States  September 24, 2021   \n12                              Germany, Czech Republic  September 23, 2021   \n24                                                India  September 21, 2021   \n...                                                 ...                 ...   \n8801                       United Arab Emirates, Jordan       March 9, 2016   \n8802                                      United States   November 20, 2019   \n8804                                      United States    November 1, 2019   \n8805                                      United States    January 11, 2020   \n8806                                              India       March 2, 2019   \n\n      release_year rating   duration  \\\n7             1993  TV-MA    125 min   \n8             2021  TV-14  9 Seasons   \n9             2021  PG-13    104 min   \n12            2021  TV-MA    127 min   \n24            1998  TV-14    166 min   \n...            ...    ...        ...   \n8801          2015  TV-MA     96 min   \n8802          2007      R    158 min   \n8804          2009      R     88 min   \n8805          2006     PG     88 min   \n8806          2015  TV-14    111 min   \n\n                                             listed_in  \\\n7     Dramas, Independent Movies, International Movies   \n8                         British TV Shows, Reality TV   \n9                                     Comedies, Dramas   \n12                        Dramas, International Movies   \n24     Comedies, International Movies, Romantic Movies   \n...                                                ...   \n8801           Dramas, International Movies, Thrillers   \n8802                    Cult Movies, Dramas, Thrillers   \n8804                           Comedies, Horror Movies   \n8805                Children & Family Movies, Comedies   \n8806    Dramas, International Movies, Music & Musicals   \n\n                                            description  \n7     On a photo shoot in Ghana, an American model s...  \n8     A talented batch of amateur bakers face off in...  \n9     A woman adjusting to life after a loss contend...  \n12    After most of her family is murdered in a terr...  \n24    When the father of the man she loves insists t...  \n...                                                 ...  \n8801  Recovering alcoholic Talal wakes up inside a s...  \n8802  A political cartoonist, a crime reporter and a...  \n8804  Looking to survive in a world taken over by zo...  \n8805  Dragged from civilian life, a former superhero...  \n8806  A scrappy but poor boy worms his way into a ty...  \n\n[5332 rows x 12 columns]>"
     },
     "execution_count": 7,
     "metadata": {},
     "output_type": "execute_result"
    }
   ],
   "source": [
    "netflix.info"
   ],
   "metadata": {
    "collapsed": false,
    "ExecuteTime": {
     "end_time": "2024-03-13T20:21:04.237045Z",
     "start_time": "2024-03-13T20:21:04.199514Z"
    }
   },
   "id": "14b71fe37c5555e7",
   "execution_count": 7
  },
  {
   "cell_type": "code",
   "outputs": [
    {
     "data": {
      "text/plain": "                 director   type  count\n0             A. L. Vijay  Movie      2\n1            A. Raajdheep  Movie      1\n2               A. Salaam  Movie      1\n3         A.R. Murugadoss  Movie      1\n4         Aadish Keluskar  Movie      1\n...                   ...    ...    ...\n3964          Çagan Irmak  Movie      1\n3965     Ísold Uggadóttir  Movie      1\n3966  Óskar Thór Axelsson  Movie      1\n3967     Ömer Faruk Sorak  Movie      2\n3968         Şenol Sönmez  Movie      2\n\n[3969 rows x 3 columns]",
      "text/html": "<div>\n<style scoped>\n    .dataframe tbody tr th:only-of-type {\n        vertical-align: middle;\n    }\n\n    .dataframe tbody tr th {\n        vertical-align: top;\n    }\n\n    .dataframe thead th {\n        text-align: right;\n    }\n</style>\n<table border=\"1\" class=\"dataframe\">\n  <thead>\n    <tr style=\"text-align: right;\">\n      <th></th>\n      <th>director</th>\n      <th>type</th>\n      <th>count</th>\n    </tr>\n  </thead>\n  <tbody>\n    <tr>\n      <th>0</th>\n      <td>A. L. Vijay</td>\n      <td>Movie</td>\n      <td>2</td>\n    </tr>\n    <tr>\n      <th>1</th>\n      <td>A. Raajdheep</td>\n      <td>Movie</td>\n      <td>1</td>\n    </tr>\n    <tr>\n      <th>2</th>\n      <td>A. Salaam</td>\n      <td>Movie</td>\n      <td>1</td>\n    </tr>\n    <tr>\n      <th>3</th>\n      <td>A.R. Murugadoss</td>\n      <td>Movie</td>\n      <td>1</td>\n    </tr>\n    <tr>\n      <th>4</th>\n      <td>Aadish Keluskar</td>\n      <td>Movie</td>\n      <td>1</td>\n    </tr>\n    <tr>\n      <th>...</th>\n      <td>...</td>\n      <td>...</td>\n      <td>...</td>\n    </tr>\n    <tr>\n      <th>3964</th>\n      <td>Çagan Irmak</td>\n      <td>Movie</td>\n      <td>1</td>\n    </tr>\n    <tr>\n      <th>3965</th>\n      <td>Ísold Uggadóttir</td>\n      <td>Movie</td>\n      <td>1</td>\n    </tr>\n    <tr>\n      <th>3966</th>\n      <td>Óskar Thór Axelsson</td>\n      <td>Movie</td>\n      <td>1</td>\n    </tr>\n    <tr>\n      <th>3967</th>\n      <td>Ömer Faruk Sorak</td>\n      <td>Movie</td>\n      <td>2</td>\n    </tr>\n    <tr>\n      <th>3968</th>\n      <td>Şenol Sönmez</td>\n      <td>Movie</td>\n      <td>2</td>\n    </tr>\n  </tbody>\n</table>\n<p>3969 rows × 3 columns</p>\n</div>"
     },
     "execution_count": 8,
     "metadata": {},
     "output_type": "execute_result"
    }
   ],
   "source": [
    "directors = netflix.groupby(['director', 'type'])['director'].value_counts().reset_index()\n",
    "directors"
   ],
   "metadata": {
    "collapsed": false,
    "ExecuteTime": {
     "end_time": "2024-03-13T20:22:26.669352Z",
     "start_time": "2024-03-13T20:22:26.638656Z"
    }
   },
   "id": "7efe691d35e6b0ae",
   "execution_count": 8
  },
  {
   "cell_type": "code",
   "outputs": [
    {
     "data": {
      "text/plain": "director             type \nMarcus Raboy         Movie    14\nCathy Garcia-Molina  Movie    13\nYoussef Chahine      Movie    12\nJay Chapman          Movie    12\nMartin Scorsese      Movie    12\nSteven Spielberg     Movie    11\nDon Michael Paul     Movie    10\nDavid Dhawan         Movie     9\nYılmaz Erdoğan       Movie     8\nTroy Miller          Movie     8\nName: count, dtype: int64"
     },
     "execution_count": 9,
     "metadata": {},
     "output_type": "execute_result"
    }
   ],
   "source": [
    "#top 10 directors\n",
    "top_10_directors = netflix.groupby(['director', 'type'])['director'].value_counts().sort_values(ascending=False).iloc[2:12]\n",
    "top_10_directors"
   ],
   "metadata": {
    "collapsed": false,
    "ExecuteTime": {
     "end_time": "2024-03-13T20:23:05.786487Z",
     "start_time": "2024-03-13T20:23:05.759927Z"
    }
   },
   "id": "2af02f8502f11bc6",
   "execution_count": 9
  },
  {
   "cell_type": "code",
   "outputs": [
    {
     "data": {
      "text/plain": "country         type \nUnited Kingdom  Movie    164\nCanada          Movie    104\nEgypt           Movie     90\nNigeria         Movie     84\nSpain           Movie     84\nIndonesia       Movie     76\nTurkey          Movie     74\nPhilippines     Movie     73\nJapan           Movie     73\nFrance          Movie     68\nName: count, dtype: int64"
     },
     "execution_count": 10,
     "metadata": {},
     "output_type": "execute_result"
    }
   ],
   "source": [
    "#country column\n",
    "countries = netflix.groupby(['country', 'type'])['country'].value_counts().sort_values(ascending=False).iloc[2:12]\n",
    "countries"
   ],
   "metadata": {
    "collapsed": false,
    "ExecuteTime": {
     "end_time": "2024-03-13T20:25:53.292550Z",
     "start_time": "2024-03-13T20:25:53.261021Z"
    }
   },
   "id": "d7da9a7842c31840",
   "execution_count": 10
  },
  {
   "cell_type": "code",
   "outputs": [],
   "source": [],
   "metadata": {
    "collapsed": false
   },
   "id": "2ec440069c3a3b65"
  }
 ],
 "metadata": {
  "kernelspec": {
   "display_name": "Python 3",
   "language": "python",
   "name": "python3"
  },
  "language_info": {
   "codemirror_mode": {
    "name": "ipython",
    "version": 2
   },
   "file_extension": ".py",
   "mimetype": "text/x-python",
   "name": "python",
   "nbconvert_exporter": "python",
   "pygments_lexer": "ipython2",
   "version": "2.7.6"
  }
 },
 "nbformat": 4,
 "nbformat_minor": 5
}
